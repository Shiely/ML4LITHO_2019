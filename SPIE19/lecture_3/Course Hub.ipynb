{
 "cells": [
  {
   "cell_type": "markdown",
   "metadata": {},
   "source": [
    "# Machine Learning For Microlithography"
   ]
  },
  {
   "cell_type": "markdown",
   "metadata": {},
   "source": [
    "## Introduction\n",
    "\n",
    "Welcome to the course! Today you will learn what machine learning (ML) is, and how it can be applied to make useful systems for lithographers. \n",
    "\n",
    "The course will be fun. At the end you will be familiar with the core concepts of ML, but also perhaps some new understanding of Lithography. In addition, one of the rewarding intellectual aspects of ML is considering it a model of the learning process in general, You may even gain insights into how you use evidence to form beliefs and make predictions."
   ]
  },
  {
   "cell_type": "markdown",
   "metadata": {},
   "source": [
    "## Goals\n",
    "By the end of the course you will:\n",
    "    * know what machine learning is\n",
    "    * the kinds of problems it is capable of solving\n",
    "    * some of its limitations.  \n",
    "    \n",
    "You will also have experience in \n",
    "    * preparing data for training\n",
    "    * building models\n",
    "    * training models\n",
    "    * validating models\n",
    "    * using models in an application.\n",
    "    \n"
   ]
  },
  {
   "cell_type": "markdown",
   "metadata": {},
   "source": [
    "## Course Plan\n",
    "You will learn best by your own exploration. I will assist you as your instructor. I have prepared lecture notes and lab exercises to assist you.\n",
    "\n",
    "The lecture notes are provided in the form of prezi files, and I will be displaying them overhead as we proceed.\n",
    "\n",
    "The labs are provided in the form of JupyterLab notebooks, served to your web browser via mybinder.org.  JupyterLab notebooks offer us an environment for experimentation with some python libraries that provide many of the functionalities required for applying ML to a problem.  I have also prepared some example data that we can use for our exerciees, code skeletons which you can flesh out as you learn, and some visualization methods to help you rapidly interpret the results of your experiments.\n",
    "\n",
    "The course will complete in about 3 huors.  The sequence of instruction will be:\n",
    "\n",
    "* Lecture : Machine Learning Overview\n",
    "* Lab : Applying ML to Character Recognition\n",
    "\n",
    "* Lecture : Analogies Between Microlithography and other Machine Learning Problem Domains\n",
    "* Lab : Adapting ML to Photoresist Modeliong\n",
    "\n",
    "* Lecture : Interpreting Neural Networks\n",
    "* Lab : Visualizing Activations\n",
    "\n",
    "* Lecture : Bibliography and Further Horizons\n",
    "\n",
    "if you finish these labs early there are some bonus labs you can also learn from.\n",
    "* Lab : Learning Rayleigh\n",
    "* lab : Inferring from less to more\n"
   ]
  },
  {
   "cell_type": "code",
   "execution_count": null,
   "metadata": {},
   "outputs": [],
   "source": []
  }
 ],
 "metadata": {
  "kernelspec": {
   "display_name": "Python 2",
   "language": "python",
   "name": "python2"
  },
  "language_info": {
   "codemirror_mode": {
    "name": "ipython",
    "version": 2
   },
   "file_extension": ".py",
   "mimetype": "text/x-python",
   "name": "python",
   "nbconvert_exporter": "python",
   "pygments_lexer": "ipython2",
   "version": "2.7.15"
  }
 },
 "nbformat": 4,
 "nbformat_minor": 2
}
