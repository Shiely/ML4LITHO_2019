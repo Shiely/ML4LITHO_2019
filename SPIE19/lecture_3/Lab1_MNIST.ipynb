{
 "cells": [
  {
   "cell_type": "markdown",
   "metadata": {},
   "source": [
    "# MNIST : The ML Rite of Passage"
   ]
  },
  {
   "cell_type": "markdown",
   "metadata": {},
   "source": [
    "If any of you have taken an ML course before you have probably see nthis example.  MNIST is a dataset that was generated for training a system to recognize hand drawn numbers for systems used by the Postal Service. It is ubquitous because there is a lot of freely available and easily interpretable data.  It is useful because many model forms in the research literature are applied by the authors to MNIST.  I frequently egin the examination fo a newly proposed model by going to Github and downloading the repository of an ML researcher, and more often tha nnot this will include an exampel of applying their model to MNIST."
   ]
  },
  {
   "cell_type": "markdown",
   "metadata": {},
   "source": [
    "Apologies in advance to "
   ]
  }
 ],
 "metadata": {
  "kernelspec": {
   "display_name": "Python 2",
   "language": "python",
   "name": "python2"
  },
  "language_info": {
   "codemirror_mode": {
    "name": "ipython",
    "version": 2
   },
   "file_extension": ".py",
   "mimetype": "text/x-python",
   "name": "python",
   "nbconvert_exporter": "python",
   "pygments_lexer": "ipython2",
   "version": "2.7.15"
  }
 },
 "nbformat": 4,
 "nbformat_minor": 2
}
